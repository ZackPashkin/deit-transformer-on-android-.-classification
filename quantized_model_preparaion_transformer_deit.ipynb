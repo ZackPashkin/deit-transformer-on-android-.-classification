{
  "nbformat": 4,
  "nbformat_minor": 0,
  "metadata": {
    "colab": {
      "name": "quantized model preparaion: transformer deit.ipynb",
      "provenance": [],
      "collapsed_sections": [],
      "authorship_tag": "ABX9TyNpQTNJI8ixN6yLvppsbciu",
      "include_colab_link": true
    },
    "kernelspec": {
      "name": "python3",
      "display_name": "Python 3"
    },
    "accelerator": "GPU",
    "widgets": {
      "application/vnd.jupyter.widget-state+json": {
        "4724862787634afd90d8797191ad26ec": {
          "model_module": "@jupyter-widgets/controls",
          "model_name": "HBoxModel",
          "state": {
            "_view_name": "HBoxView",
            "_dom_classes": [],
            "_model_name": "HBoxModel",
            "_view_module": "@jupyter-widgets/controls",
            "_model_module_version": "1.5.0",
            "_view_count": null,
            "_view_module_version": "1.5.0",
            "box_style": "",
            "layout": "IPY_MODEL_b0629231e60d45fe989000468d871e8d",
            "_model_module": "@jupyter-widgets/controls",
            "children": [
              "IPY_MODEL_c70884987ff446978a98ceb1af404c21",
              "IPY_MODEL_d3687176384547a79f4961b5e585e92e"
            ]
          }
        },
        "b0629231e60d45fe989000468d871e8d": {
          "model_module": "@jupyter-widgets/base",
          "model_name": "LayoutModel",
          "state": {
            "_view_name": "LayoutView",
            "grid_template_rows": null,
            "right": null,
            "justify_content": null,
            "_view_module": "@jupyter-widgets/base",
            "overflow": null,
            "_model_module_version": "1.2.0",
            "_view_count": null,
            "flex_flow": null,
            "width": null,
            "min_width": null,
            "border": null,
            "align_items": null,
            "bottom": null,
            "_model_module": "@jupyter-widgets/base",
            "top": null,
            "grid_column": null,
            "overflow_y": null,
            "overflow_x": null,
            "grid_auto_flow": null,
            "grid_area": null,
            "grid_template_columns": null,
            "flex": null,
            "_model_name": "LayoutModel",
            "justify_items": null,
            "grid_row": null,
            "max_height": null,
            "align_content": null,
            "visibility": null,
            "align_self": null,
            "height": null,
            "min_height": null,
            "padding": null,
            "grid_auto_rows": null,
            "grid_gap": null,
            "max_width": null,
            "order": null,
            "_view_module_version": "1.2.0",
            "grid_template_areas": null,
            "object_position": null,
            "object_fit": null,
            "grid_auto_columns": null,
            "margin": null,
            "display": null,
            "left": null
          }
        },
        "c70884987ff446978a98ceb1af404c21": {
          "model_module": "@jupyter-widgets/controls",
          "model_name": "FloatProgressModel",
          "state": {
            "_view_name": "ProgressView",
            "style": "IPY_MODEL_5c30bf6cbaa14e069cf41f6843457127",
            "_dom_classes": [],
            "description": "100%",
            "_model_name": "FloatProgressModel",
            "bar_style": "success",
            "max": 22917895,
            "_view_module": "@jupyter-widgets/controls",
            "_model_module_version": "1.5.0",
            "value": 22917895,
            "_view_count": null,
            "_view_module_version": "1.5.0",
            "orientation": "horizontal",
            "min": 0,
            "description_tooltip": null,
            "_model_module": "@jupyter-widgets/controls",
            "layout": "IPY_MODEL_f7829bbe0e884214bd4af365cb7dc0ec"
          }
        },
        "d3687176384547a79f4961b5e585e92e": {
          "model_module": "@jupyter-widgets/controls",
          "model_name": "HTMLModel",
          "state": {
            "_view_name": "HTMLView",
            "style": "IPY_MODEL_2683b65cb65442ea8300c2077741ac72",
            "_dom_classes": [],
            "description": "",
            "_model_name": "HTMLModel",
            "placeholder": "​",
            "_view_module": "@jupyter-widgets/controls",
            "_model_module_version": "1.5.0",
            "value": " 21.9M/21.9M [00:02&lt;00:00, 8.11MB/s]",
            "_view_count": null,
            "_view_module_version": "1.5.0",
            "description_tooltip": null,
            "_model_module": "@jupyter-widgets/controls",
            "layout": "IPY_MODEL_0b969fcc64504dd79fc8ac4f950996df"
          }
        },
        "5c30bf6cbaa14e069cf41f6843457127": {
          "model_module": "@jupyter-widgets/controls",
          "model_name": "ProgressStyleModel",
          "state": {
            "_view_name": "StyleView",
            "_model_name": "ProgressStyleModel",
            "description_width": "initial",
            "_view_module": "@jupyter-widgets/base",
            "_model_module_version": "1.5.0",
            "_view_count": null,
            "_view_module_version": "1.2.0",
            "bar_color": null,
            "_model_module": "@jupyter-widgets/controls"
          }
        },
        "f7829bbe0e884214bd4af365cb7dc0ec": {
          "model_module": "@jupyter-widgets/base",
          "model_name": "LayoutModel",
          "state": {
            "_view_name": "LayoutView",
            "grid_template_rows": null,
            "right": null,
            "justify_content": null,
            "_view_module": "@jupyter-widgets/base",
            "overflow": null,
            "_model_module_version": "1.2.0",
            "_view_count": null,
            "flex_flow": null,
            "width": null,
            "min_width": null,
            "border": null,
            "align_items": null,
            "bottom": null,
            "_model_module": "@jupyter-widgets/base",
            "top": null,
            "grid_column": null,
            "overflow_y": null,
            "overflow_x": null,
            "grid_auto_flow": null,
            "grid_area": null,
            "grid_template_columns": null,
            "flex": null,
            "_model_name": "LayoutModel",
            "justify_items": null,
            "grid_row": null,
            "max_height": null,
            "align_content": null,
            "visibility": null,
            "align_self": null,
            "height": null,
            "min_height": null,
            "padding": null,
            "grid_auto_rows": null,
            "grid_gap": null,
            "max_width": null,
            "order": null,
            "_view_module_version": "1.2.0",
            "grid_template_areas": null,
            "object_position": null,
            "object_fit": null,
            "grid_auto_columns": null,
            "margin": null,
            "display": null,
            "left": null
          }
        },
        "2683b65cb65442ea8300c2077741ac72": {
          "model_module": "@jupyter-widgets/controls",
          "model_name": "DescriptionStyleModel",
          "state": {
            "_view_name": "StyleView",
            "_model_name": "DescriptionStyleModel",
            "description_width": "",
            "_view_module": "@jupyter-widgets/base",
            "_model_module_version": "1.5.0",
            "_view_count": null,
            "_view_module_version": "1.2.0",
            "_model_module": "@jupyter-widgets/controls"
          }
        },
        "0b969fcc64504dd79fc8ac4f950996df": {
          "model_module": "@jupyter-widgets/base",
          "model_name": "LayoutModel",
          "state": {
            "_view_name": "LayoutView",
            "grid_template_rows": null,
            "right": null,
            "justify_content": null,
            "_view_module": "@jupyter-widgets/base",
            "overflow": null,
            "_model_module_version": "1.2.0",
            "_view_count": null,
            "flex_flow": null,
            "width": null,
            "min_width": null,
            "border": null,
            "align_items": null,
            "bottom": null,
            "_model_module": "@jupyter-widgets/base",
            "top": null,
            "grid_column": null,
            "overflow_y": null,
            "overflow_x": null,
            "grid_auto_flow": null,
            "grid_area": null,
            "grid_template_columns": null,
            "flex": null,
            "_model_name": "LayoutModel",
            "justify_items": null,
            "grid_row": null,
            "max_height": null,
            "align_content": null,
            "visibility": null,
            "align_self": null,
            "height": null,
            "min_height": null,
            "padding": null,
            "grid_auto_rows": null,
            "grid_gap": null,
            "max_width": null,
            "order": null,
            "_view_module_version": "1.2.0",
            "grid_template_areas": null,
            "object_position": null,
            "object_fit": null,
            "grid_auto_columns": null,
            "margin": null,
            "display": null,
            "left": null
          }
        }
      }
    }
  },
  "cells": [
    {
      "cell_type": "markdown",
      "metadata": {
        "id": "view-in-github",
        "colab_type": "text"
      },
      "source": [
        "<a href=\"https://colab.research.google.com/github/ZackPashkin/deit-transformer-on-android-.-classification/blob/main/quantized_model_preparaion_transformer_deit.ipynb\" target=\"_parent\"><img src=\"https://colab.research.google.com/assets/colab-badge.svg\" alt=\"Open In Colab\"/></a>"
      ]
    },
    {
      "cell_type": "code",
      "metadata": {
        "colab": {
          "base_uri": "https://localhost:8080/"
        },
        "id": "N_AOPoph9SxF",
        "outputId": "e1acf99f-e16b-4038-f76b-ae0dd47b52a4"
      },
      "source": [
        "!pip install --upgrade torch torchvision\n",
        "!pip install timm==0.3.2"
      ],
      "execution_count": 2,
      "outputs": [
        {
          "output_type": "stream",
          "text": [
            "Requirement already up-to-date: torch in /usr/local/lib/python3.7/dist-packages (1.8.0+cu101)\n",
            "Requirement already up-to-date: torchvision in /usr/local/lib/python3.7/dist-packages (0.9.0+cu101)\n",
            "Requirement already satisfied, skipping upgrade: numpy in /usr/local/lib/python3.7/dist-packages (from torch) (1.19.5)\n",
            "Requirement already satisfied, skipping upgrade: typing-extensions in /usr/local/lib/python3.7/dist-packages (from torch) (3.7.4.3)\n",
            "Requirement already satisfied, skipping upgrade: pillow>=4.1.1 in /usr/local/lib/python3.7/dist-packages (from torchvision) (7.0.0)\n",
            "Collecting timm==0.3.2\n",
            "\u001b[?25l  Downloading https://files.pythonhosted.org/packages/51/2d/39ecc56fbb202e1891c317e8e44667299bc3b0762ea2ed6aaaa2c2f6613c/timm-0.3.2-py3-none-any.whl (244kB)\n",
            "\u001b[K     |████████████████████████████████| 245kB 13.6MB/s \n",
            "\u001b[?25hRequirement already satisfied: torchvision in /usr/local/lib/python3.7/dist-packages (from timm==0.3.2) (0.9.0+cu101)\n",
            "Requirement already satisfied: torch>=1.0 in /usr/local/lib/python3.7/dist-packages (from timm==0.3.2) (1.8.0+cu101)\n",
            "Requirement already satisfied: numpy in /usr/local/lib/python3.7/dist-packages (from torchvision->timm==0.3.2) (1.19.5)\n",
            "Requirement already satisfied: pillow>=4.1.1 in /usr/local/lib/python3.7/dist-packages (from torchvision->timm==0.3.2) (7.0.0)\n",
            "Requirement already satisfied: typing-extensions in /usr/local/lib/python3.7/dist-packages (from torch>=1.0->timm==0.3.2) (3.7.4.3)\n",
            "Installing collected packages: timm\n",
            "Successfully installed timm-0.3.2\n"
          ],
          "name": "stdout"
        }
      ]
    },
    {
      "cell_type": "code",
      "metadata": {
        "colab": {
          "base_uri": "https://localhost:8080/"
        },
        "id": "tkvEW82p05EK",
        "outputId": "8ac40092-be67-4a02-ae6b-d953307ef11b"
      },
      "source": [
        "!git clone https://github.com/facebookresearch/deit.git"
      ],
      "execution_count": 3,
      "outputs": [
        {
          "output_type": "stream",
          "text": [
            "Cloning into 'deit'...\n",
            "remote: Enumerating objects: 140, done.\u001b[K\n",
            "remote: Total 140 (delta 0), reused 0 (delta 0), pack-reused 140\u001b[K\n",
            "Receiving objects: 100% (140/140), 1.02 MiB | 4.21 MiB/s, done.\n",
            "Resolving deltas: 100% (74/74), done.\n"
          ],
          "name": "stdout"
        }
      ]
    },
    {
      "cell_type": "code",
      "metadata": {
        "colab": {
          "base_uri": "https://localhost:8080/"
        },
        "id": "shb0vA78-rm7",
        "outputId": "f4130b12-1ce1-4cac-e9e8-e85d31d49495"
      },
      "source": [
        "%cd /content/deit\n",
        "import torch\n",
        "import torch.nn as nn\n",
        "from functools import partial\n",
        "\n",
        "from timm.models.vision_transformer import VisionTransformer, _cfg\n",
        "from timm.models.registry import register_model\n",
        "from timm.models.layers import trunc_normal_\n",
        "\n",
        "\n",
        "__all__ = [\n",
        "    'deit_tiny_patch16_224', 'deit_small_patch16_224', 'deit_base_patch16_224',\n",
        "    'deit_tiny_distilled_patch16_224', 'deit_small_distilled_patch16_224',\n",
        "    'deit_base_distilled_patch16_224', 'deit_base_patch16_384',\n",
        "    'deit_base_distilled_patch16_384',\n",
        "]\n",
        "\n",
        "\n",
        "class DistilledVisionTransformer(VisionTransformer):\n",
        "    def __init__(self, *args, **kwargs):\n",
        "        super().__init__(*args, **kwargs)\n",
        "        self.dist_token = nn.Parameter(torch.zeros(1, 1, self.embed_dim))\n",
        "        num_patches = self.patch_embed.num_patches\n",
        "        self.pos_embed = nn.Parameter(torch.zeros(1, num_patches + 2, self.embed_dim))\n",
        "        self.head_dist = nn.Linear(self.embed_dim, self.num_classes) if self.num_classes > 0 else nn.Identity()\n",
        "\n",
        "        trunc_normal_(self.dist_token, std=.02)\n",
        "        trunc_normal_(self.pos_embed, std=.02)\n",
        "        self.head_dist.apply(self._init_weights)\n",
        "\n",
        "    def forward_features(self, x):\n",
        "        # taken from https://github.com/rwightman/pytorch-image-models/blob/master/timm/models/vision_transformer.py\n",
        "        # with slight modifications to add the dist_token\n",
        "        B = x.shape[0]\n",
        "        x = self.patch_embed(x)\n",
        "\n",
        "        cls_tokens = self.cls_token.expand(B, -1, -1)  # stole cls_tokens impl from Phil Wang, thanks\n",
        "        dist_token = self.dist_token.expand(B, -1, -1)\n",
        "        x = torch.cat((cls_tokens, dist_token, x), dim=1)\n",
        "\n",
        "        x = x + self.pos_embed\n",
        "        x = self.pos_drop(x)\n",
        "\n",
        "        for blk in self.blocks:\n",
        "            x = blk(x)\n",
        "\n",
        "        x = self.norm(x)\n",
        "        return x[:, 0], x[:, 1]\n",
        "\n",
        "    def forward(self, x):\n",
        "        x, x_dist = self.forward_features(x)\n",
        "        x = self.head(x)\n",
        "        x_dist = self.head_dist(x_dist)\n",
        "        if self.training:\n",
        "            return x, x_dist\n",
        "        else:\n",
        "            # during inference, return the average of both classifier predictions\n",
        "            return (x + x_dist) / 2\n",
        "\n",
        "\n",
        "@register_model\n",
        "def deit_tiny_patch16_224(pretrained=False, **kwargs):\n",
        "    model = VisionTransformer(\n",
        "        patch_size=16, embed_dim=192, depth=12, num_heads=3, mlp_ratio=4, qkv_bias=True,\n",
        "        norm_layer=partial(nn.LayerNorm, eps=1e-6), **kwargs)\n",
        "    model.default_cfg = _cfg()\n",
        "    if pretrained:\n",
        "        checkpoint = torch.hub.load_state_dict_from_url(\n",
        "            url=\"https://dl.fbaipublicfiles.com/deit/deit_tiny_patch16_224-a1311bcf.pth\",\n",
        "            map_location=\"cpu\", check_hash=True\n",
        "        )\n",
        "        model.load_state_dict(checkpoint[\"model\"])\n",
        "    return model\n",
        "\n",
        "\n",
        "@register_model\n",
        "def deit_small_patch16_224(pretrained=False, **kwargs):\n",
        "    model = VisionTransformer(\n",
        "        patch_size=16, embed_dim=384, depth=12, num_heads=6, mlp_ratio=4, qkv_bias=True,\n",
        "        norm_layer=partial(nn.LayerNorm, eps=1e-6), **kwargs)\n",
        "    model.default_cfg = _cfg()\n",
        "    if pretrained:\n",
        "        checkpoint = torch.hub.load_state_dict_from_url(\n",
        "            url=\"https://dl.fbaipublicfiles.com/deit/deit_small_patch16_224-cd65a155.pth\",\n",
        "            map_location=\"cpu\", check_hash=True\n",
        "        )\n",
        "        model.load_state_dict(checkpoint[\"model\"])\n",
        "    return model\n",
        "\n",
        "\n",
        "@register_model\n",
        "def deit_base_patch16_224(pretrained=False, **kwargs):\n",
        "    model = VisionTransformer(\n",
        "        patch_size=16, embed_dim=768, depth=12, num_heads=12, mlp_ratio=4, qkv_bias=True,\n",
        "        norm_layer=partial(nn.LayerNorm, eps=1e-6), **kwargs)\n",
        "    model.default_cfg = _cfg()\n",
        "    if pretrained:\n",
        "        checkpoint = torch.hub.load_state_dict_from_url(\n",
        "            url=\"https://dl.fbaipublicfiles.com/deit/deit_base_patch16_224-b5f2ef4d.pth\",\n",
        "            map_location=\"cpu\", check_hash=True\n",
        "        )\n",
        "        model.load_state_dict(checkpoint[\"model\"])\n",
        "    return model\n",
        "\n",
        "\n",
        "@register_model\n",
        "def deit_tiny_distilled_patch16_224(pretrained=False, **kwargs):\n",
        "    model = DistilledVisionTransformer(\n",
        "        patch_size=16, embed_dim=192, depth=12, num_heads=3, mlp_ratio=4, qkv_bias=True,\n",
        "        norm_layer=partial(nn.LayerNorm, eps=1e-6), **kwargs)\n",
        "    model.default_cfg = _cfg()\n",
        "    if pretrained:\n",
        "        checkpoint = torch.hub.load_state_dict_from_url(\n",
        "            url=\"https://dl.fbaipublicfiles.com/deit/deit_tiny_distilled_patch16_224-b40b3cf7.pth\",\n",
        "            map_location=\"cpu\", check_hash=True\n",
        "        )\n",
        "        model.load_state_dict(checkpoint[\"model\"])\n",
        "    return model\n",
        "\n",
        "\n",
        "@register_model\n",
        "def deit_small_distilled_patch16_224(pretrained=False, **kwargs):\n",
        "    model = DistilledVisionTransformer(\n",
        "        patch_size=16, embed_dim=384, depth=12, num_heads=6, mlp_ratio=4, qkv_bias=True,\n",
        "        norm_layer=partial(nn.LayerNorm, eps=1e-6), **kwargs)\n",
        "    model.default_cfg = _cfg()\n",
        "    if pretrained:\n",
        "        checkpoint = torch.hub.load_state_dict_from_url(\n",
        "            url=\"https://dl.fbaipublicfiles.com/deit/deit_small_distilled_patch16_224-649709d9.pth\",\n",
        "            map_location=\"cpu\", check_hash=True\n",
        "        )\n",
        "        model.load_state_dict(checkpoint[\"model\"])\n",
        "    return model\n",
        "\n",
        "\n",
        "@register_model\n",
        "def deit_base_distilled_patch16_224(pretrained=False, **kwargs):\n",
        "    model = DistilledVisionTransformer(\n",
        "        patch_size=16, embed_dim=768, depth=12, num_heads=12, mlp_ratio=4, qkv_bias=True,\n",
        "        norm_layer=partial(nn.LayerNorm, eps=1e-6), **kwargs)\n",
        "    model.default_cfg = _cfg()\n",
        "    if pretrained:\n",
        "        checkpoint = torch.hub.load_state_dict_from_url(\n",
        "            url=\"https://dl.fbaipublicfiles.com/deit/deit_base_distilled_patch16_224-df68dfff.pth\",\n",
        "            map_location=\"cpu\", check_hash=True\n",
        "        )\n",
        "        model.load_state_dict(checkpoint[\"model\"])\n",
        "    return model\n",
        "\n",
        "\n",
        "@register_model\n",
        "def deit_base_patch16_384(pretrained=False, **kwargs):\n",
        "    model = VisionTransformer(\n",
        "        img_size=384, patch_size=16, embed_dim=768, depth=12, num_heads=12, mlp_ratio=4, qkv_bias=True,\n",
        "        norm_layer=partial(nn.LayerNorm, eps=1e-6), **kwargs)\n",
        "    model.default_cfg = _cfg()\n",
        "    if pretrained:\n",
        "        checkpoint = torch.hub.load_state_dict_from_url(\n",
        "            url=\"https://dl.fbaipublicfiles.com/deit/deit_base_patch16_384-8de9b5d1.pth\",\n",
        "            map_location=\"cpu\", check_hash=True\n",
        "        )\n",
        "        model.load_state_dict(checkpoint[\"model\"])\n",
        "    return model\n",
        "\n",
        "\n",
        "@register_model\n",
        "def deit_base_distilled_patch16_384(pretrained=False, **kwargs):\n",
        "    model = DistilledVisionTransformer(\n",
        "        img_size=384, patch_size=16, embed_dim=768, depth=12, num_heads=12, mlp_ratio=4, qkv_bias=True,\n",
        "        norm_layer=partial(nn.LayerNorm, eps=1e-6), **kwargs)\n",
        "    model.default_cfg = _cfg()\n",
        "    if pretrained:\n",
        "        checkpoint = torch.hub.load_state_dict_from_url(\n",
        "            url=\"https://dl.fbaipublicfiles.com/deit/deit_base_distilled_patch16_384-d0272ac0.pth\",\n",
        "            map_location=\"cpu\", check_hash=True\n",
        "        )\n",
        "        model.load_state_dict(checkpoint[\"model\"])\n",
        "    return model\n"
      ],
      "execution_count": 4,
      "outputs": [
        {
          "output_type": "stream",
          "text": [
            "/content/deit\n"
          ],
          "name": "stdout"
        }
      ]
    },
    {
      "cell_type": "code",
      "metadata": {
        "colab": {
          "base_uri": "https://localhost:8080/",
          "height": 83,
          "referenced_widgets": [
            "4724862787634afd90d8797191ad26ec",
            "b0629231e60d45fe989000468d871e8d",
            "c70884987ff446978a98ceb1af404c21",
            "d3687176384547a79f4961b5e585e92e",
            "5c30bf6cbaa14e069cf41f6843457127",
            "f7829bbe0e884214bd4af365cb7dc0ec",
            "2683b65cb65442ea8300c2077741ac72",
            "0b969fcc64504dd79fc8ac4f950996df"
          ]
        },
        "id": "sisNtMV91s2E",
        "outputId": "719b8ffa-90d6-474e-f116-2eebb7599917"
      },
      "source": [
        "model_tiny = deit_tiny_patch16_224(pretrained=True)\n",
        "from torch.utils.mobile_optimizer import optimize_for_mobile\n",
        "ts_model = torch.jit.script(model_tiny)\n",
        "optimized_torchscript_model = optimize_for_mobile(ts_model)\n",
        "optimized_torchscript_model.save(\"fbdeit.pt\")"
      ],
      "execution_count": 5,
      "outputs": [
        {
          "output_type": "stream",
          "text": [
            "Downloading: \"https://dl.fbaipublicfiles.com/deit/deit_tiny_patch16_224-a1311bcf.pth\" to /root/.cache/torch/hub/checkpoints/deit_tiny_patch16_224-a1311bcf.pth\n"
          ],
          "name": "stderr"
        },
        {
          "output_type": "display_data",
          "data": {
            "application/vnd.jupyter.widget-view+json": {
              "model_id": "4724862787634afd90d8797191ad26ec",
              "version_minor": 0,
              "version_major": 2
            },
            "text/plain": [
              "HBox(children=(FloatProgress(value=0.0, max=22917895.0), HTML(value='')))"
            ]
          },
          "metadata": {
            "tags": []
          }
        },
        {
          "output_type": "stream",
          "text": [
            "\n"
          ],
          "name": "stdout"
        }
      ]
    },
    {
      "cell_type": "code",
      "metadata": {
        "id": "I40YxEy6cing"
      },
      "source": [
        "from google.colab import files\n",
        "files.download('fbdeit.pt')"
      ],
      "execution_count": null,
      "outputs": []
    }
  ]
}